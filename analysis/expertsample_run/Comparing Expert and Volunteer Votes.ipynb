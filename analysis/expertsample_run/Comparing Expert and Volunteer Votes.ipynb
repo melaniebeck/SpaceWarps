{
 "cells": [
  {
   "cell_type": "code",
   "execution_count": 33,
   "metadata": {
    "collapsed": false
   },
   "outputs": [],
   "source": [
    "from __future__ import division\n",
    "\n",
    "from astropy.table import Table\n",
    "import numpy as np\n",
    "import matplotlib.pyplot as plt\n",
    "%matplotlib inline  "
   ]
  },
  {
   "cell_type": "code",
   "execution_count": 41,
   "metadata": {
    "collapsed": true
   },
   "outputs": [],
   "source": [
    "def find_indices(x, y):\n",
    "    \"\"\"\n",
    "    Find the index of every element of y in x \n",
    "    \"\"\"\n",
    "    # indices that would sort x (length x)\n",
    "    index = np.argsort(x)\n",
    "\n",
    "    sorted_x = x[index]\n",
    "\n",
    "    # index of every element of y in sorted x (length y)\n",
    "    # can't plug this into either x or y: \n",
    "    # it's too short for x (being length y) and it's x's indices\n",
    "    # which are too large for y\n",
    "    sorted_index = np.searchsorted(sorted_x, y)\n",
    "\n",
    "    # this returns the value of \"index\" at each index, \"sorted_index\"\n",
    "    # so if sorted_index = [273404, 273405, ...]\n",
    "    # you'll get the value in \"index\" at THOSE indices\n",
    "    # since \"index\" is itself a list of indices, you're actually getting\n",
    "    # \"unsorted\" indices in x that correspond to matching values in y\n",
    "    # (length y) ; x[yindex] = matching values in y\n",
    "    yindex = np.take(index, sorted_index)\n",
    "    mask = x[yindex] != y\n",
    "\n",
    "    result = np.ma.array(yindex, mask=mask)\n",
    "\n",
    "    return result"
   ]
  },
  {
   "cell_type": "code",
   "execution_count": 34,
   "metadata": {
    "collapsed": true
   },
   "outputs": [],
   "source": [
    "experts = Table.read('expert_aggregated_votes.fits')\n",
    "users = Table.read('aggregate_votes_total_S_standard.fits')"
   ]
  },
  {
   "cell_type": "code",
   "execution_count": 108,
   "metadata": {
    "collapsed": false
   },
   "outputs": [
    {
     "name": "stdout",
     "output_type": "stream",
     "text": [
      "expert_id asset_id majority_vote ...     ra        dec        Separation   \n",
      "                                 ...                            arcsec     \n",
      "--------- -------- ------------- ... ---------- --------- -----------------\n",
      "  1520449       16             5 ... 184.535645 -1.064114  0.00185408690931\n",
      "  1520621       49             5 ... 191.970779 -1.185845  0.00223818742806\n",
      "  1520724       77             5 ... 196.773529 -1.176841 0.000951713739891\n",
      "  1520772       96             5 ... 198.154114 -1.197509  0.00168601835102\n"
     ]
    }
   ],
   "source": [
    "experts.sort('asset_id')\n",
    "print experts[:4]"
   ]
  },
  {
   "cell_type": "code",
   "execution_count": 38,
   "metadata": {
    "collapsed": true
   },
   "outputs": [],
   "source": [
    "norm_expert_vote = np.array(experts['majority_vote'],dtype='float64')\\\n",
    "                    /experts['classification_count']\n",
    "norm_expert_vote = 1 - norm_expert_vote"
   ]
  },
  {
   "cell_type": "code",
   "execution_count": 39,
   "metadata": {
    "collapsed": false,
    "scrolled": true
   },
   "outputs": [
    {
     "data": {
      "text/plain": [
       "<matplotlib.collections.PathCollection at 0x7fcb4576fb90>"
      ]
     },
     "execution_count": 39,
     "metadata": {},
     "output_type": "execute_result"
    },
    {
     "data": {
      "image/png": "[encoded data removed]",
      "text/plain": [
       "<matplotlib.figure.Figure at 0x7fcb47f37c10>"
      ]
     },
     "metadata": {},
     "output_type": "display_data"
    }
   ],
   "source": [
    "plt.scatter(norm_expert_vote, users['norm_aggregate_votes'])"
   ]
  },
  {
   "cell_type": "code",
   "execution_count": 18,
   "metadata": {
    "collapsed": true
   },
   "outputs": [],
   "source": [
    "tt = Table.read('asset_user_skill_vote.fits')"
   ]
  },
  {
   "cell_type": "code",
   "execution_count": 19,
   "metadata": {
    "collapsed": false
   },
   "outputs": [],
   "source": [
    "grpd_by_asset = tt.group_by('asset_id')"
   ]
  },
  {
   "cell_type": "code",
   "execution_count": 110,
   "metadata": {
    "collapsed": false
   },
   "outputs": [],
   "source": [
    "norm_agg_user_vote = []\n",
    "\n",
    "num_users,problem_assets,all_assets= [],[],[]\n",
    "good_assets = []\n",
    "i = 0\n",
    "for grp in grpd_by_asset.groups:\n",
    "    # This sorts the group in ascending order \n",
    "    grp.sort('skill')\n",
    "    all_assets.append(int(grp['asset_id'][0]))\n",
    "    \n",
    "    if len(grp) >= 5:\n",
    "        # We want the 5 best users (for now)\n",
    "        best = grp[-5:]\n",
    "        norm_agg_user_vote.append(sum(best['vote'])/5.)\n",
    "        good_assets.append(int(grp['asset_id'][0]))\n",
    "    #elif len(grp) >= 5 and len(grp) < 10:\n",
    "    #    # We want the 5 best users (for now)\n",
    "    #    secondbest = grp[-5:]\n",
    "    #    norm_agg_user_vote.append(sum(secondbest['vote'])/5.)\n",
    "    #    good_assets.append(int(grp['asset_id'][0]))        \n",
    "    else:\n",
    "        norm_agg_user_vote.append(sum(grp['vote'])/len(grp))\n",
    "        num_users.append(len(grp))\n",
    "        problem_assets.append(int(grp['asset_id'][0]))\n",
    "        i+=1\n"
   ]
  },
  {
   "cell_type": "code",
   "execution_count": 74,
   "metadata": {
    "collapsed": false
   },
   "outputs": [],
   "source": [
    "ind = find_indices(np.array(all_assets,dtype='int64'),\n",
    "                   np.array(good_assets,dtype='int64'))    \n",
    "\n",
    "norm_expert_trunc = np.array(norm_expert_vote)[ind]\n",
    "norm_user_trunc = np.array(norm_agg_user_vote)[ind]"
   ]
  },
  {
   "cell_type": "code",
   "execution_count": 109,
   "metadata": {
    "collapsed": false
   },
   "outputs": [
    {
     "data": {
      "image/png": "[encoded data removed]",
      "text/plain": [
       "<matplotlib.figure.Figure at 0x7fcb44369650>"
      ]
     },
     "metadata": {},
     "output_type": "display_data"
    }
   ],
   "source": [
    "#plt.scatter(norm_expert_vote, norm_agg_user_vote)\n",
    "plt.scatter(norm_expert_trunc, norm_user_trunc,color='r',marker='^')\n",
    "plt.xlabel('Experts',fontsize=16)\n",
    "plt.ylabel('Volunteers',fontsize=16)\n",
    "\n",
    "plt.text(0., 1.4, 'Normalized aggregated raw votes ',fontsize=14)\n",
    "plt.text(0., 1.3, 'of best 5 users for ~3300 galaxies',fontsize=14)\n",
    "plt.text(1.1,-0.4, 'Featured')\n",
    "plt.text(-0.3, -0.4,'Smooth')\n",
    "\n",
    "plt.savefig('expert_vs_volunteer_votes_highskill.png')"
   ]
  },
  {
   "cell_type": "code",
   "execution_count": 99,
   "metadata": {
    "collapsed": true
   },
   "outputs": [],
   "source": [
    "metadata = Table.read('metadata_ground_truth_labels.fits')"
   ]
  },
  {
   "cell_type": "code",
   "execution_count": 104,
   "metadata": {
    "collapsed": false
   },
   "outputs": [
    {
     "name": "stdout",
     "output_type": "stream",
     "text": [
      "<Row 95 of table\n",
      " values=(587722981748048006, 'J131236.98-011151.02', 96, 0, 0, 198.15411377, -1.197509408, 48.24446105957031, 3.269852876663208, 0.052690375596284866, 0.568808376789093, -2.1144251823425293, 0.22029131650924683, 0, 0, 40, 3.0, 'test', 0.3, 0, 0, 0, 'http://cas.sdss.org/dr7/en/tools/quicklook/quickobj.asp?id=587722981748048006')\n",
      " dtype=[('SDSS_id', '>i8'), ('JID', 'S20'), ('asset_id', '>i4'), ('stripe82', '>i2'), ('extra_original', '>i2'), ('ra', '>f8'), ('dec', '>f8'), ('Rp', '>f4'), ('C', '>f4'), ('A', '>f4'), ('G', '>f4'), ('M20', '>f4'), ('E', '>f4'), ('Rpflag', '>i4'), ('bflag', '>i4'), ('total_classifications', '>i2'), ('TType', '>f4'), ('MLsample', 'S5'), ('SWAP_prob', '>f8'), ('GZ2_label', '>i8'), ('Nair_label', '>i8'), ('Expert_label', '>i8'), ('external_ref', 'S77')]>\n"
     ]
    }
   ],
   "source": [
    "print metadata[95]"
   ]
  },
  {
   "cell_type": "code",
   "execution_count": null,
   "metadata": {
    "collapsed": true
   },
   "outputs": [],
   "source": []
  }
 ],
 "metadata": {
  "kernelspec": {
   "display_name": "Python 2",
   "language": "python",
   "name": "python2"
  },
  "language_info": {
   "codemirror_mode": {
    "name": "ipython",
    "version": 2
   },
   "file_extension": ".py",
   "mimetype": "text/x-python",
   "name": "python",
   "nbconvert_exporter": "python",
   "pygments_lexer": "ipython2",
   "version": "2.7.12"
  }
 },
 "nbformat": 4,
 "nbformat_minor": 0
}
