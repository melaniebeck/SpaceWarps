{
 "cells": [
  {
   "cell_type": "code",
   "execution_count": 33,
   "metadata": {
    "collapsed": false
   },
   "outputs": [],
   "source": [
    "from __future__ import division\n",
    "\n",
    "from astropy.table import Table\n",
    "import numpy as np\n",
    "import matplotlib.pyplot as plt\n",
    "%matplotlib inline  "
   ]
  },
  {
   "cell_type": "code",
   "execution_count": 114,
   "metadata": {
    "collapsed": true
   },
   "outputs": [],
   "source": [
    "def find_indices(x, y):\n",
    "    \"\"\"\n",
    "    Find the index of every element of y in x \n",
    "    \"\"\"\n",
    "    # indices that would sort x (length x)\n",
    "    index = np.argsort(x)\n",
    "\n",
    "    sorted_x = x[index]\n",
    "\n",
    "    # index of every element of y in sorted x (length y)\n",
    "    # can't plug this into either x or y: \n",
    "    # it's too short for x (being length y) and it's x's indices\n",
    "    # which are too large for y\n",
    "    sorted_index = np.searchsorted(sorted_x, y)\n",
    "\n",
    "    # this returns the value of \"index\" at each index, \"sorted_index\"\n",
    "    # so if sorted_index = [273404, 273405, ...]\n",
    "    # you'll get the value in \"index\" at THOSE indices\n",
    "    # since \"index\" is itself a list of indices, you're actually getting\n",
    "    # \"unsorted\" indices in x that correspond to matching values in y\n",
    "    # (length y) ; x[yindex] = matching values in y\n",
    "    yindex = np.take(index, sorted_index)\n",
    "    mask = x[yindex] != y\n",
    "\n",
    "    result = np.ma.array(yindex, mask=mask)\n",
    "\n",
    "    return result"
   ]
  },
  {
   "cell_type": "code",
   "execution_count": 115,
   "metadata": {
    "collapsed": true
   },
   "outputs": [],
   "source": [
    "# This is the aggregated table of expert classification after the panoptes run\n",
    "experts = Table.read('expert_aggregated_votes.fits')\n",
    "\n",
    "# This is a table of ALL volunteer votes aggregated together for the entire sample\n",
    "# Specifically, using simulation \"S_standard\"\n",
    "users = Table.read('aggregate_votes_total_S_standard.fits')"
   ]
  },
  {
   "cell_type": "code",
   "execution_count": 116,
   "metadata": {
    "collapsed": false
   },
   "outputs": [
    {
     "name": "stdout",
     "output_type": "stream",
     "text": [
      "expert_id asset_id majority_vote ...     ra        dec        Separation   \n",
      "                                 ...                            arcsec     \n",
      "--------- -------- ------------- ... ---------- --------- -----------------\n",
      "  1520449       16             5 ... 184.535645 -1.064114  0.00185408690931\n",
      "  1520621       49             5 ... 191.970779 -1.185845  0.00223818742806\n",
      "  1520724       77             5 ... 196.773529 -1.176841 0.000951713739891\n",
      "  1520772       96             5 ... 198.154114 -1.197509  0.00168601835102\n"
     ]
    }
   ],
   "source": [
    "# The \"users\" table above is ordered by ascending asset_id (tho that column isn't present)\n",
    "# but the expert table is not sorted... \n",
    "experts.sort('asset_id')\n",
    "\n",
    "# Super. Now it is. \n",
    "print experts[:4]"
   ]
  },
  {
   "cell_type": "code",
   "execution_count": 117,
   "metadata": {
    "collapsed": true
   },
   "outputs": [],
   "source": [
    "# The votes in the \"expert\" table are already summed -- normalize them\n",
    "norm_expert_vote = np.array(experts['majority_vote'],dtype='float64')\\\n",
    "                    /experts['classification_count']\n",
    "    \n",
    "# Another dumb thing I did when making that table was that Feat = 1, Smooth = 0\n",
    "# Except, in EVERYTHING ELSE I DO, it's the other way around. \n",
    "# So. Flip these votes so they match user orientation. \n",
    "norm_expert_vote = 1 - norm_expert_vote"
   ]
  },
  {
   "cell_type": "code",
   "execution_count": 124,
   "metadata": {
    "collapsed": false,
    "scrolled": true
   },
   "outputs": [
    {
     "data": {
      "text/plain": [
       "<matplotlib.text.Text at 0x7fcb43744890>"
      ]
     },
     "execution_count": 124,
     "metadata": {},
     "output_type": "execute_result"
    },
    {
     "data": {
      "image/png": "[encoded data removed]",
      "text/plain": [
       "<matplotlib.figure.Figure at 0x7fcb43983b50>"
      ]
     },
     "metadata": {},
     "output_type": "display_data"
    }
   ],
   "source": [
    "# Plot everything. \n",
    "plt.scatter(norm_expert_vote, users['norm_aggregate_votes'])\n",
    "plt.xlabel('Experts',fontsize=16)\n",
    "plt.ylabel('Volunteers',fontsize=16)\n",
    "\n",
    "plt.text(-0.23, 1.3, 'Normalized aggregated raw votes for ~3500 gals',fontsize=14)\n",
    "plt.text(1.1,-0.4, 'Smooth')\n",
    "plt.text(-0.3, -0.4,'Featured')"
   ]
  },
  {
   "cell_type": "code",
   "execution_count": 125,
   "metadata": {
    "collapsed": true
   },
   "outputs": [],
   "source": [
    "# Went back through that simulation and pulled out the number of users\n",
    "# that classified each galaxy, their skill level, and their vote\n",
    "tt = Table.read('asset_user_skill_vote.fits')"
   ]
  },
  {
   "cell_type": "code",
   "execution_count": 126,
   "metadata": {
    "collapsed": false
   },
   "outputs": [],
   "source": [
    "# Group these by asset\n",
    "grpd_by_asset = tt.group_by('asset_id')"
   ]
  },
  {
   "cell_type": "code",
   "execution_count": 127,
   "metadata": {
    "collapsed": false
   },
   "outputs": [],
   "source": [
    "# Here, I'm trying to isolate the 5 (because we had 5 experts per galaxy) \n",
    "# most highly skilled volunteers for each galaxy\n",
    "# so we can compare them directly to the experts. \n",
    "\n",
    "norm_agg_user_vote = []\n",
    "\n",
    "num_users,problem_assets,all_assets= [],[],[]\n",
    "good_assets = []\n",
    "\n",
    "\n",
    "i = 0\n",
    "\n",
    "# Loop through each group \n",
    "for grp in grpd_by_asset.groups:\n",
    "    \n",
    "    # This sorts the group by user SKILL in ascending order \n",
    "    grp.sort('skill')\n",
    "    \n",
    "    # I just wanted an array of all the asset ids.. \n",
    "    all_assets.append(int(grp['asset_id'][0]))\n",
    "    \n",
    "    # Turns out not every asset was classifed 5 times by volunteers... \n",
    "    if len(grp) >= 5:\n",
    "        # We want the 5 best users (take bottom 5 cuz skill is ascending order)\n",
    "        best = grp[-5:]\n",
    "        \n",
    "        # get the normalized aggregate vote\n",
    "        norm_agg_user_vote.append(sum(best['vote'])/5.)\n",
    "        \n",
    "        # keep track of which galaxies have at least 5 volunteers\n",
    "        good_assets.append(int(grp['asset_id'][0]))\n",
    "        \n",
    "    #elif len(grp) >= 5 and len(grp) < 10:\n",
    "    #    # We want the 5 best users (for now)\n",
    "    #    secondbest = grp[-5:]\n",
    "    #    norm_agg_user_vote.append(sum(secondbest['vote'])/5.)\n",
    "    #    good_assets.append(int(grp['asset_id'][0]))  \n",
    "\n",
    "    else:\n",
    "        # If we don't have 5, just take the norm_agg vote for what we do have\n",
    "        norm_agg_user_vote.append(sum(grp['vote'])/len(grp))\n",
    "        num_users.append(len(grp))\n",
    "        problem_assets.append(int(grp['asset_id'][0]))\n",
    "        i+=1\n"
   ]
  },
  {
   "cell_type": "code",
   "execution_count": 74,
   "metadata": {
    "collapsed": false
   },
   "outputs": [],
   "source": [
    "# About 150 of the ~3500 had fewer than 5 volunteers -- find th\n",
    "ind = find_indices(np.array(all_assets,dtype='int64'),\n",
    "                   np.array(good_assets,dtype='int64'))    \n",
    "\n",
    "norm_expert_trunc = np.array(norm_expert_vote)[ind]\n",
    "norm_user_trunc = np.array(norm_agg_user_vote)[ind]"
   ]
  },
  {
   "cell_type": "code",
   "execution_count": 109,
   "metadata": {
    "collapsed": false
   },
   "outputs": [
    {
     "data": {
      "image/png": "[encoded data removed]",
      "text/plain": [
       "<matplotlib.figure.Figure at 0x7fcb44369650>"
      ]
     },
     "metadata": {},
     "output_type": "display_data"
    }
   ],
   "source": [
    "#plt.scatter(norm_expert_vote, norm_agg_user_vote)\n",
    "plt.scatter(norm_expert_trunc, norm_user_trunc,color='r',marker='^')\n",
    "plt.xlabel('Experts',fontsize=16)\n",
    "plt.ylabel('Volunteers',fontsize=16)\n",
    "\n",
    "plt.text(0., 1.4, 'Normalized aggregated raw votes ',fontsize=14)\n",
    "plt.text(0., 1.3, 'of best 5 users for ~3300 galaxies',fontsize=14)\n",
    "plt.text(1.1,-0.4, 'Featured')\n",
    "plt.text(-0.3, -0.4,'Smooth')\n",
    "\n",
    "plt.savefig('expert_vs_volunteer_votes_highskill.png')"
   ]
  },
  {
   "cell_type": "code",
   "execution_count": 99,
   "metadata": {
    "collapsed": true
   },
   "outputs": [],
   "source": [
    "metadata = Table.read('metadata_ground_truth_labels.fits')"
   ]
  },
  {
   "cell_type": "code",
   "execution_count": 104,
   "metadata": {
    "collapsed": false
   },
   "outputs": [
    {
     "name": "stdout",
     "output_type": "stream",
     "text": [
      "<Row 95 of table\n",
      " values=(587722981748048006, 'J131236.98-011151.02', 96, 0, 0, 198.15411377, -1.197509408, 48.24446105957031, 3.269852876663208, 0.052690375596284866, 0.568808376789093, -2.1144251823425293, 0.22029131650924683, 0, 0, 40, 3.0, 'test', 0.3, 0, 0, 0, 'http://cas.sdss.org/dr7/en/tools/quicklook/quickobj.asp?id=587722981748048006')\n",
      " dtype=[('SDSS_id', '>i8'), ('JID', 'S20'), ('asset_id', '>i4'), ('stripe82', '>i2'), ('extra_original', '>i2'), ('ra', '>f8'), ('dec', '>f8'), ('Rp', '>f4'), ('C', '>f4'), ('A', '>f4'), ('G', '>f4'), ('M20', '>f4'), ('E', '>f4'), ('Rpflag', '>i4'), ('bflag', '>i4'), ('total_classifications', '>i2'), ('TType', '>f4'), ('MLsample', 'S5'), ('SWAP_prob', '>f8'), ('GZ2_label', '>i8'), ('Nair_label', '>i8'), ('Expert_label', '>i8'), ('external_ref', 'S77')]>\n"
     ]
    }
   ],
   "source": [
    "print metadata[95]"
   ]
  },
  {
   "cell_type": "code",
   "execution_count": null,
   "metadata": {
    "collapsed": true
   },
   "outputs": [],
   "source": []
  }
 ],
 "metadata": {
  "kernelspec": {
   "display_name": "Python 2",
   "language": "python",
   "name": "python2"
  },
  "language_info": {
   "codemirror_mode": {
    "name": "ipython",
    "version": 2
   },
   "file_extension": ".py",
   "mimetype": "text/x-python",
   "name": "python",
   "nbconvert_exporter": "python",
   "pygments_lexer": "ipython2",
   "version": "2.7.12"
  }
 },
 "nbformat": 4,
 "nbformat_minor": 0
}
