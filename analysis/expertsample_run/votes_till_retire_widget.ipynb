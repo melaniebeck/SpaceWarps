{
 "cells": [
  {
   "cell_type": "code",
   "execution_count": 1,
   "metadata": {
    "collapsed": false
   },
   "outputs": [
    {
     "name": "stderr",
     "output_type": "stream",
     "text": [
      "/home/oxymoronic/.local/lib/python2.7/site-packages/IPython/kernel/__init__.py:13: ShimWarning: The `IPython.kernel` package has been deprecated. You should import from ipykernel or jupyter_client instead.\n",
      "  \"You should import from ipykernel or jupyter_client instead.\", ShimWarning)\n"
     ]
    }
   ],
   "source": [
    "import numpy as np\n",
    "import matplotlib.pyplot as plt\n",
    "from astropy.table import Table\n",
    "import sys, os, subprocess\n",
    "\n",
    "import swap\n",
    "\n",
    "from ipywidgets import interact, interactive, fixed\n",
    "import ipywidgets as widgets\n",
    "\n",
    "%matplotlib inline"
   ]
  },
  {
   "cell_type": "code",
   "execution_count": 2,
   "metadata": {
    "collapsed": true
   },
   "outputs": [],
   "source": [
    "def fetch_parameters(config):\n",
    "\n",
    "    # Open Configuration File \n",
    "    p = swap.Configuration(config)\n",
    "    params = p.parameters\n",
    "\n",
    "    return params"
   ]
  },
  {
   "cell_type": "code",
   "execution_count": 3,
   "metadata": {
    "collapsed": true
   },
   "outputs": [],
   "source": [
    "def fetch_classifications(filename):\n",
    "   \n",
    "    try:\n",
    "        dat = Table.read(filename,format='ascii')\n",
    "    except:\n",
    "        print \"Did not find %s\"%filename\n",
    "        sys.exit()\n",
    "    else:\n",
    "        return dat"
   ]
  },
  {
   "cell_type": "code",
   "execution_count": 4,
   "metadata": {
    "collapsed": true
   },
   "outputs": [],
   "source": [
    "def fetch_filelist(params, kind='detected'):\n",
    "     \n",
    "    # ------------------------------------------------------------------\n",
    "    # Load up detected subjects... \n",
    "    #print \"Fetching list of %s files created by GZX...\"%kind\n",
    "\n",
    "    try:\n",
    "        cmd = \"ls %s_*/*%s_catalog.txt\"%(params['survey'], kind)\n",
    "        cmdout = subprocess.Popen(cmd, shell=True, stdout=subprocess.PIPE)\n",
    "        filelist = cmdout.stdout.read().splitlines()\n",
    "        \n",
    "    except:\n",
    "        print \"No '%s' files found! Aborting...\"%kind\n",
    "        print \"\"\n",
    "        sys.exit()\n",
    "        \n",
    "    return filelist"
   ]
  },
  {
   "cell_type": "code",
   "execution_count": 21,
   "metadata": {
    "collapsed": true
   },
   "outputs": [],
   "source": [
    "def plot_num_classifications_to_retire(detected_file, rejected_file, GZ2_data, \n",
    "                                       config, day, featornot=False):\n",
    "\n",
    "    GZ2 = GZ2_data['total_classifications']\n",
    "\n",
    "    detected = fetch_classifications(detected_file)\n",
    "    rejected = fetch_classifications(rejected_file)\n",
    "    \n",
    "    num_detected = detected['Nclass']\n",
    "    num_rejected = rejected['Nclass']\n",
    "\n",
    "    num_total = np.concatenate([num_rejected, num_detected])\n",
    "\n",
    "    # -------------------------------------------------------------------------\n",
    "    # I want to show how the individual components compare to the whole by \n",
    "    # displaying the proportional frequency of classifications. \n",
    "    # To do this, I need to pad the detected/rejected arrays so that they're \n",
    "    # lengths match the length of the total. Pad them with -1 so that they won't\n",
    "    # show up in the histogram which will start at 0. \n",
    "    \n",
    "    num_det = np.concatenate([num_detected, np.full(len(num_rejected), -1, dtype='int64')])\n",
    "    num_rej = np.concatenate([num_rejected, np.full(len(num_detected), -1, dtype='int64')])\n",
    "    \n",
    "\n",
    "    fig = plt.figure(figsize=(8,6))\n",
    "    ax = fig.add_subplot(111)\n",
    "\n",
    "    binsize=1\n",
    "    swapbins = np.arange(np.min(num_total), np.max(num_total), binsize)\n",
    "    # force the bin sizes for the retired subjects (individually) to start at 0\n",
    "    retbins = np.arange(0, np.max(num_total), binsize)\n",
    "    gz2bins = np.arange(np.min(GZ2), np.max(GZ2), binsize)\n",
    "\n",
    "    weights=np.ones_like(num_total)*1.0/len(num_total)\n",
    "\n",
    "    #ax.hist(num_total, bins=swapbins, weights=weights, color='purple', \n",
    "    #        histtype='stepfilled', alpha=1, edgecolor='purple', label='SWAP')\n",
    "\n",
    "    if featornot:\n",
    "        labels = [\"'Feat' (%i)\"%len(num_detected),\"'Not' (%i)\"%len(num_rejected)]\n",
    "        colors = ['yellow', 'blue']\n",
    "    else:\n",
    "        labels = [\"'Smooth' (%i)\"%len(num_detected),\"'Not' (%i)\"%len(num_rejected)]\n",
    "        colors = ['blue','yellow']\n",
    "\n",
    "\n",
    "    ax.hist(num_det, weights=weights, bins=retbins, range=(0,50), color=colors[0],\n",
    "            histtype='stepfilled', alpha=.5, label=labels[0])\n",
    "\n",
    "    ax.hist(num_rej, weights=weights, bins=retbins, range=(0,50), color=colors[1],\n",
    "            histtype='stepfilled', alpha=.5, label=labels[1])\n",
    "\n",
    "    weights=np.ones_like(GZ2)*1.0/len(GZ2), \n",
    "    ax.hist(GZ2, bins=gz2bins, weights=weights, color='green', \n",
    "            histtype='stepfilled', alpha=0.5, label='Original GZ2')\n",
    "\n",
    "    ax.set_ylim(0,.2)\n",
    "    ax.set_xlim(0,60.)\n",
    "    ax.set_xlabel('Classifications till retirement', fontsize=16, weight='bold')\n",
    "    ax.set_ylabel('Frequency', fontsize=16, weight='bold')\n",
    "    ax.set_title('Day %i'%day)\n",
    "    ax.legend(loc='best')\n",
    "\n",
    "    outfile = \"PLPD5_p5_flipfeature2b_clicks_to_retire_figures/\"\\\n",
    "              \"clicks_till_retirement_%s_%i.png\"%(config['survey'], day)\n",
    "    plt.savefig(outfile)\n",
    "    plt.show()"
   ]
  },
  {
   "cell_type": "code",
   "execution_count": 18,
   "metadata": {
    "collapsed": true
   },
   "outputs": [],
   "source": [
    "metadata = Table.read('metadata_ground_truth_labels.fits')"
   ]
  },
  {
   "cell_type": "code",
   "execution_count": 19,
   "metadata": {
    "collapsed": false
   },
   "outputs": [],
   "source": [
    "def plot_all_the_things(filename, day):\n",
    "    featornot = False\n",
    "    \n",
    "    params = fetch_parameters(filename)  \n",
    "    \n",
    "    detectedfilelist = fetch_filelist(params, kind='detected')\n",
    "    rejectedfilelist = fetch_filelist(params, kind='rejected')\n",
    "    \n",
    "    if \"flipfeature\" in filename:\n",
    "        featornot = True\n",
    "\n",
    "    plot_num_classifications_to_retire(detectedfilelist[day], \n",
    "                                       rejectedfilelist[day],\n",
    "                                       metadata, params, day,  \n",
    "                                       featornot=featornot) "
   ]
  },
  {
   "cell_type": "code",
   "execution_count": 20,
   "metadata": {
    "collapsed": false
   },
   "outputs": [
    {
     "data": {
      "image/png": "[encoded data removed]",
      "text/plain": [
       "<matplotlib.figure.Figure at 0x7fdee5435110>"
      ]
     },
     "metadata": {},
     "output_type": "display_data"
    }
   ],
   "source": [
    "filenames = {'S_standard':'update_sup_0.5_trainfirst_standard2.config', \n",
    "             'S_featornot':'update_sup_0.5_trainfirst_flipfeature2b.config',\n",
    "             'S_standard_p5':'update_sup_PLPD5_p5_standard2.config',\n",
    "             'S_featornot_p5':'update_sup_PLPD5_p5_flipfeature2b.config'}\n",
    "interact(plot_all_the_things, filename=filenames, \n",
    "         day=widgets.IntSlider(min=0,max=73,step=1,value=5));"
   ]
  },
  {
   "cell_type": "code",
   "execution_count": null,
   "metadata": {
    "collapsed": true
   },
   "outputs": [],
   "source": []
  }
 ],
 "metadata": {
  "kernelspec": {
   "display_name": "Python 2",
   "language": "python",
   "name": "python2"
  },
  "language_info": {
   "codemirror_mode": {
    "name": "ipython",
    "version": 2
   },
   "file_extension": ".py",
   "mimetype": "text/x-python",
   "name": "python",
   "nbconvert_exporter": "python",
   "pygments_lexer": "ipython2",
   "version": "2.7.12"
  }
 },
 "nbformat": 4,
 "nbformat_minor": 0
}
