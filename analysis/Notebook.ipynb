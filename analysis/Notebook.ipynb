{
 "cells": [
  {
   "cell_type": "markdown",
   "metadata": {
    "slideshow": {
     "slide_type": "notes"
    }
   },
   "source": [
    "We need the Machine to know which subjects have been classified by humans and which havent. Those that have been classified by eye are marked Training while those that haven't are marked Test. At the very beginning, all subjects are marked Test. As classification commences, subjects flip over to the Training side. \n",
    "\n",
    "**Subject**: a single galaxy image  \n",
    "**Collection**: group of Subjects  \n",
    "**User**: a human classifier  \n",
    "**Machine**: machine learning classification algorithm\n",
    "\n",
    "#### Route 1:\n",
    "* User sees Subject. \n",
    "* Subject processed through SWAP. \n",
    "* Subject may or may not be retired by SWAP (only train Machine if retired?)\n",
    "* Subject trains Machine. \n",
    "* (If not yet retired by SWAP,) Subject remains in Collection; Users can see it again. \n",
    "* Else, Subject is retired from Collection.   \n",
    "\n",
    "Machine cannot classify a Subject that it Trains on...\n",
    "\n",
    "\n",
    "#### Route 2:\n",
    "* User does not see Subject.\n",
    "* Subject is part of Test sample for Machine. \n",
    "* Subject is retired from Collection. (Never seen by User).  \n",
    "\n",
    "Machine can only classify Test Subjects. \n",
    "\n",
    "\n",
    "SWAP initilizes its own Collection of Subjects. Each Subject in the Collection is initialized with a bunch of information: **ID, ZooID, category, kind, flavor, truth, thresholds, location (url), and prior**. I modified it to include morphological parameters because those need to be passed to the Machine. Each Subject is only initialized (or updated) as it is classified by a User. \n",
    "\n",
    "However.   \n",
    "I could instead initialize a Collection of Subjects for the Machine. This Collection would initialize _at the beginning of the project_ and would include an entry for EVERY Subject in the sample. These Subjects would be initialized with **ID, ZooID, Test (or Train), label (from SWAP), machine threshold(?), location, morphdata.**   This Collection would have to be passed to SWAP so that Test could be flipped to Train and the label could be attached (label based on majority vote? Or on where the Subject currently lies in the probability space? Or are these the same thing?)\n",
    "\n",
    "These Collections are then serialized and saved as output. \n",
    "\n",
    "I think this will work! In SWAP, call a function that will initialize the entire dataset; creating a Subject for each galaxy and populating that dictionary with the relavent information. **OR just make this a separate function? (have to pass to SWAP then)** \n",
    "\n",
    "\n",
    "## 01/18/2016\n",
    "I've implemented the Collection that will keep track of the Subjects intended for the Test and Training samples as well as the morphological parameters necessary for the Machine learning. This works by creating a pickle of all subjects before SWAP is run. `SWAP.py` opens this pickle. As each galaxy is classified by users, SWAP will flip a switch (from Test to Train) for any subject which crosses a threshold in SWAP. \n",
    "\n",
    "At the end of The Day we need to save this updated pickle so that Machine can access this? If I need to run this multiple times I need to have an Original version. I think we can just save one other version -- one that's been updated just like SWAP does. \n"
   ]
  }
 ],
 "metadata": {
  "kernelspec": {
   "display_name": "Python 2",
   "language": "python",
   "name": "python2"
  },
  "language_info": {
   "codemirror_mode": {
    "name": "ipython",
    "version": 2
   },
   "file_extension": ".py",
   "mimetype": "text/x-python",
   "name": "python",
   "nbconvert_exporter": "python",
   "pygments_lexer": "ipython2",
   "version": "2.7.6"
  }
 },
 "nbformat": 4,
 "nbformat_minor": 0
}
